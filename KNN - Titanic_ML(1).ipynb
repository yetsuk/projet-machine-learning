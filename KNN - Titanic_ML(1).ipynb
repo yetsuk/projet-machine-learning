{
 "cells": [
  {
   "cell_type": "markdown",
   "id": "493d51c6-c957-4c47-aa39-379ff93d12fd",
   "metadata": {},
   "source": [
    "# Titanic - Machine Learning from disaster"
   ]
  },
  {
   "cell_type": "code",
   "execution_count": 1,
   "id": "296efbaa-67ed-4157-9ed9-82407293b04a",
   "metadata": {},
   "outputs": [],
   "source": [
    "# Import des modules pour analyse\n",
    "\n",
    "# Manipulation de donnée\n",
    "import pandas as pd\n",
    "import numpy as np\n",
    "\n",
    "# Visualisation de donnée\n",
    "import matplotlib.pyplot as plt\n",
    "\n",
    "# Import des modules d'analyses\n",
    "import sklearn\n",
    "from sklearn.preprocessing import OneHotEncoder, StandardScaler\n",
    "from sklearn.model_selection import train_test_split\n",
    "from sklearn.neighbors import KNeighborsClassifier\n",
    "from sklearn.metrics import accuracy_score"
   ]
  },
  {
   "cell_type": "code",
   "execution_count": 2,
   "id": "25ecaac7-df83-4914-ad8e-a8689e4c980a",
   "metadata": {},
   "outputs": [],
   "source": [
    "# Ajout des dataframe\n",
    "\n",
    "train_data = pd.read_csv('train.csv')\n",
    "\n",
    "test_data = pd.read_csv('test.csv')"
   ]
  },
  {
   "cell_type": "code",
   "execution_count": 3,
   "id": "1a64c786-0869-479d-bf36-b865b4f4dda3",
   "metadata": {},
   "outputs": [],
   "source": [
    "# Création d'une liste des dataframes pour automatiser le nettoyage\n",
    "list_df = [train_data, test_data]"
   ]
  },
  {
   "cell_type": "code",
   "execution_count": 4,
   "id": "b8a075b3-3f79-4b80-b956-058232bc3785",
   "metadata": {},
   "outputs": [],
   "source": [
    "train_data['Age'] = train_data.groupby('Pclass')['Age'].transform(\n",
    "    lambda x: x.fillna(x.median())\n",
    ")\n",
    "\n",
    "train_data['Embarked'].fillna(train_data['Embarked'].mode()[0], inplace=True)"
   ]
  },
  {
   "cell_type": "code",
   "execution_count": 5,
   "id": "e5a67eef-0e8e-48df-b0fa-c0dd8a1cdadb",
   "metadata": {},
   "outputs": [
    {
     "data": {
      "text/html": [
       "<div>\n",
       "<style scoped>\n",
       "    .dataframe tbody tr th:only-of-type {\n",
       "        vertical-align: middle;\n",
       "    }\n",
       "\n",
       "    .dataframe tbody tr th {\n",
       "        vertical-align: top;\n",
       "    }\n",
       "\n",
       "    .dataframe thead th {\n",
       "        text-align: right;\n",
       "    }\n",
       "</style>\n",
       "<table border=\"1\" class=\"dataframe\">\n",
       "  <thead>\n",
       "    <tr style=\"text-align: right;\">\n",
       "      <th></th>\n",
       "      <th>PassengerId</th>\n",
       "      <th>Survived</th>\n",
       "      <th>Pclass</th>\n",
       "      <th>Name</th>\n",
       "      <th>Sex</th>\n",
       "      <th>Age</th>\n",
       "      <th>SibSp</th>\n",
       "      <th>Parch</th>\n",
       "      <th>Ticket</th>\n",
       "      <th>Fare</th>\n",
       "      <th>Cabin</th>\n",
       "      <th>Embarked</th>\n",
       "    </tr>\n",
       "  </thead>\n",
       "  <tbody>\n",
       "    <tr>\n",
       "      <th>0</th>\n",
       "      <td>1</td>\n",
       "      <td>0</td>\n",
       "      <td>3</td>\n",
       "      <td>Braund, Mr. Owen Harris</td>\n",
       "      <td>male</td>\n",
       "      <td>22.0</td>\n",
       "      <td>1</td>\n",
       "      <td>0</td>\n",
       "      <td>A/5 21171</td>\n",
       "      <td>7.2500</td>\n",
       "      <td>NaN</td>\n",
       "      <td>S</td>\n",
       "    </tr>\n",
       "    <tr>\n",
       "      <th>1</th>\n",
       "      <td>2</td>\n",
       "      <td>1</td>\n",
       "      <td>1</td>\n",
       "      <td>Cumings, Mrs. John Bradley (Florence Briggs Th...</td>\n",
       "      <td>female</td>\n",
       "      <td>38.0</td>\n",
       "      <td>1</td>\n",
       "      <td>0</td>\n",
       "      <td>PC 17599</td>\n",
       "      <td>71.2833</td>\n",
       "      <td>C85</td>\n",
       "      <td>C</td>\n",
       "    </tr>\n",
       "    <tr>\n",
       "      <th>2</th>\n",
       "      <td>3</td>\n",
       "      <td>1</td>\n",
       "      <td>3</td>\n",
       "      <td>Heikkinen, Miss. Laina</td>\n",
       "      <td>female</td>\n",
       "      <td>26.0</td>\n",
       "      <td>0</td>\n",
       "      <td>0</td>\n",
       "      <td>STON/O2. 3101282</td>\n",
       "      <td>7.9250</td>\n",
       "      <td>NaN</td>\n",
       "      <td>S</td>\n",
       "    </tr>\n",
       "    <tr>\n",
       "      <th>3</th>\n",
       "      <td>4</td>\n",
       "      <td>1</td>\n",
       "      <td>1</td>\n",
       "      <td>Futrelle, Mrs. Jacques Heath (Lily May Peel)</td>\n",
       "      <td>female</td>\n",
       "      <td>35.0</td>\n",
       "      <td>1</td>\n",
       "      <td>0</td>\n",
       "      <td>113803</td>\n",
       "      <td>53.1000</td>\n",
       "      <td>C123</td>\n",
       "      <td>S</td>\n",
       "    </tr>\n",
       "    <tr>\n",
       "      <th>4</th>\n",
       "      <td>5</td>\n",
       "      <td>0</td>\n",
       "      <td>3</td>\n",
       "      <td>Allen, Mr. William Henry</td>\n",
       "      <td>male</td>\n",
       "      <td>35.0</td>\n",
       "      <td>0</td>\n",
       "      <td>0</td>\n",
       "      <td>373450</td>\n",
       "      <td>8.0500</td>\n",
       "      <td>NaN</td>\n",
       "      <td>S</td>\n",
       "    </tr>\n",
       "  </tbody>\n",
       "</table>\n",
       "</div>"
      ],
      "text/plain": [
       "   PassengerId  Survived  Pclass  \\\n",
       "0            1         0       3   \n",
       "1            2         1       1   \n",
       "2            3         1       3   \n",
       "3            4         1       1   \n",
       "4            5         0       3   \n",
       "\n",
       "                                                Name     Sex   Age  SibSp  \\\n",
       "0                            Braund, Mr. Owen Harris    male  22.0      1   \n",
       "1  Cumings, Mrs. John Bradley (Florence Briggs Th...  female  38.0      1   \n",
       "2                             Heikkinen, Miss. Laina  female  26.0      0   \n",
       "3       Futrelle, Mrs. Jacques Heath (Lily May Peel)  female  35.0      1   \n",
       "4                           Allen, Mr. William Henry    male  35.0      0   \n",
       "\n",
       "   Parch            Ticket     Fare Cabin Embarked  \n",
       "0      0         A/5 21171   7.2500   NaN        S  \n",
       "1      0          PC 17599  71.2833   C85        C  \n",
       "2      0  STON/O2. 3101282   7.9250   NaN        S  \n",
       "3      0            113803  53.1000  C123        S  \n",
       "4      0            373450   8.0500   NaN        S  "
      ]
     },
     "execution_count": 5,
     "metadata": {},
     "output_type": "execute_result"
    }
   ],
   "source": [
    "train_data.head()"
   ]
  },
  {
   "cell_type": "code",
   "execution_count": 6,
   "id": "4d25669b-319e-4352-94a8-71dae52b4d7f",
   "metadata": {},
   "outputs": [],
   "source": [
    "# Suppression des variables non significatif (vue dans un autre projet)\n",
    "\n",
    "train_data = train_data.drop(['Name', 'Cabin', 'Age', 'Ticket', 'SibSp'], axis = 1)"
   ]
  },
  {
   "cell_type": "code",
   "execution_count": 7,
   "id": "5f002c61-223a-4585-b501-5a7f6dd17dcb",
   "metadata": {},
   "outputs": [],
   "source": [
    "# Encodage des variables catégorielles\n",
    "\n",
    "train_data = pd.get_dummies(train_data, columns=['Sex','Embarked'], drop_first = True)"
   ]
  },
  {
   "cell_type": "markdown",
   "id": "2c26512c-f91f-4067-b967-51a344928ae6",
   "metadata": {},
   "source": [
    "## Création du modèle de classification"
   ]
  },
  {
   "cell_type": "code",
   "execution_count": 8,
   "id": "7e7da28e-7987-4e06-b33c-6339a7021ed1",
   "metadata": {},
   "outputs": [
    {
     "data": {
      "text/html": [
       "<div>\n",
       "<style scoped>\n",
       "    .dataframe tbody tr th:only-of-type {\n",
       "        vertical-align: middle;\n",
       "    }\n",
       "\n",
       "    .dataframe tbody tr th {\n",
       "        vertical-align: top;\n",
       "    }\n",
       "\n",
       "    .dataframe thead th {\n",
       "        text-align: right;\n",
       "    }\n",
       "</style>\n",
       "<table border=\"1\" class=\"dataframe\">\n",
       "  <thead>\n",
       "    <tr style=\"text-align: right;\">\n",
       "      <th></th>\n",
       "      <th>PassengerId</th>\n",
       "      <th>Survived</th>\n",
       "      <th>Pclass</th>\n",
       "      <th>Parch</th>\n",
       "      <th>Fare</th>\n",
       "      <th>Sex_male</th>\n",
       "      <th>Embarked_Q</th>\n",
       "      <th>Embarked_S</th>\n",
       "    </tr>\n",
       "  </thead>\n",
       "  <tbody>\n",
       "    <tr>\n",
       "      <th>0</th>\n",
       "      <td>1</td>\n",
       "      <td>0</td>\n",
       "      <td>3</td>\n",
       "      <td>0</td>\n",
       "      <td>7.2500</td>\n",
       "      <td>True</td>\n",
       "      <td>False</td>\n",
       "      <td>True</td>\n",
       "    </tr>\n",
       "    <tr>\n",
       "      <th>1</th>\n",
       "      <td>2</td>\n",
       "      <td>1</td>\n",
       "      <td>1</td>\n",
       "      <td>0</td>\n",
       "      <td>71.2833</td>\n",
       "      <td>False</td>\n",
       "      <td>False</td>\n",
       "      <td>False</td>\n",
       "    </tr>\n",
       "    <tr>\n",
       "      <th>2</th>\n",
       "      <td>3</td>\n",
       "      <td>1</td>\n",
       "      <td>3</td>\n",
       "      <td>0</td>\n",
       "      <td>7.9250</td>\n",
       "      <td>False</td>\n",
       "      <td>False</td>\n",
       "      <td>True</td>\n",
       "    </tr>\n",
       "    <tr>\n",
       "      <th>3</th>\n",
       "      <td>4</td>\n",
       "      <td>1</td>\n",
       "      <td>1</td>\n",
       "      <td>0</td>\n",
       "      <td>53.1000</td>\n",
       "      <td>False</td>\n",
       "      <td>False</td>\n",
       "      <td>True</td>\n",
       "    </tr>\n",
       "    <tr>\n",
       "      <th>4</th>\n",
       "      <td>5</td>\n",
       "      <td>0</td>\n",
       "      <td>3</td>\n",
       "      <td>0</td>\n",
       "      <td>8.0500</td>\n",
       "      <td>True</td>\n",
       "      <td>False</td>\n",
       "      <td>True</td>\n",
       "    </tr>\n",
       "  </tbody>\n",
       "</table>\n",
       "</div>"
      ],
      "text/plain": [
       "   PassengerId  Survived  Pclass  Parch     Fare  Sex_male  Embarked_Q  \\\n",
       "0            1         0       3      0   7.2500      True       False   \n",
       "1            2         1       1      0  71.2833     False       False   \n",
       "2            3         1       3      0   7.9250     False       False   \n",
       "3            4         1       1      0  53.1000     False       False   \n",
       "4            5         0       3      0   8.0500      True       False   \n",
       "\n",
       "   Embarked_S  \n",
       "0        True  \n",
       "1       False  \n",
       "2        True  \n",
       "3        True  \n",
       "4        True  "
      ]
     },
     "execution_count": 8,
     "metadata": {},
     "output_type": "execute_result"
    }
   ],
   "source": [
    "train_data.head()"
   ]
  },
  {
   "cell_type": "code",
   "execution_count": 9,
   "id": "bf30c40e-bd39-49c7-bba3-81705dde6411",
   "metadata": {},
   "outputs": [],
   "source": [
    "# Séparation X et y\n",
    "X = train_data[['Pclass', 'Parch', 'Fare', 'Sex_male', 'Embarked_Q', 'Embarked_S']]\n",
    "\n",
    "y = train_data['Survived']\n",
    "\n",
    "# Création en valeur train et test\n",
    "X_train, X_test, y_train, y_test = train_test_split(X,y, test_size = 0.2, random_state = 42)\n",
    "\n",
    "# Standardisation des valeurs x\n",
    "scaler = StandardScaler()\n",
    "X_train = scaler.fit_transform(X_train)\n",
    "X_test = scaler.transform(X_test)"
   ]
  },
  {
   "cell_type": "code",
   "execution_count": 10,
   "id": "4e914f2a-8ae9-47be-b540-01bd3b74c60e",
   "metadata": {},
   "outputs": [
    {
     "data": {
      "image/png": "[encoded data removed]",
      "text/plain": [
       "<Figure size 800x500 with 1 Axes>"
      ]
     },
     "metadata": {},
     "output_type": "display_data"
    }
   ],
   "source": [
    "# Test de différents KNN\n",
    "\n",
    "k_values = range(1,15)\n",
    "errors = []\n",
    "\n",
    "for k in k_values:\n",
    "    model = KNeighborsClassifier(n_neighbors=k)\n",
    "    model.fit(X_train, y_train)\n",
    "    y_pred = model.predict(X_test)\n",
    "    error = 1 - accuracy_score(y_test, y_pred)  # Erreur = 1 - Précision\n",
    "    errors.append(error)\n",
    "\n",
    "# Tracer la courbe d'erreur en fonction de k\n",
    "plt.figure(figsize=(8, 5))\n",
    "plt.plot(k_values, errors, marker='o', linestyle='dashed', color='b')\n",
    "plt.xlabel(\"Nombre de voisins k\")\n",
    "plt.ylabel(\"Taux d'erreur\")\n",
    "plt.title(\"Méthode du coude pour choisir k\")\n",
    "plt.show()"
   ]
  },
  {
   "cell_type": "markdown",
   "id": "18ae818d-f8bc-4dc2-8572-c6df61769c18",
   "metadata": {},
   "source": [
    "Comme on le voit sur le graphique le nombre de voisin qui propose le moins d'erreur est le 11. "
   ]
  },
  {
   "cell_type": "code",
   "execution_count": 11,
   "id": "0e39e180-82b1-47f3-9f1f-d2edc69dda9c",
   "metadata": {},
   "outputs": [
    {
     "name": "stdout",
     "output_type": "stream",
     "text": [
      "Le meilleur k est : 11\n"
     ]
    }
   ],
   "source": [
    "best_k = k_values[np.argmin(errors)]\n",
    "print(f\"Le meilleur k est : {best_k}\")"
   ]
  },
  {
   "cell_type": "code",
   "execution_count": 12,
   "id": "0653be8c-94b0-43d4-b54f-996ea71b8fe4",
   "metadata": {},
   "outputs": [
    {
     "name": "stdout",
     "output_type": "stream",
     "text": [
      "Accuracy finale: 0.8045\n"
     ]
    }
   ],
   "source": [
    "# Création du modèle finale\n",
    "knn_final = KNeighborsClassifier(n_neighbors=best_k)\n",
    "knn_final.fit(X_train, y_train)\n",
    "\n",
    "# Précision du modèle\n",
    "y_pred = knn_final.predict(X_test)\n",
    "accuracy = knn_final.score(X_test, y_test)\n",
    "print(f\"Accuracy finale: {accuracy:.4f}\")"
   ]
  },
  {
   "cell_type": "markdown",
   "id": "d1cca50d-ec96-4648-b31d-d3fcead4a116",
   "metadata": {},
   "source": [
    "## Classification Survivant sur la df test"
   ]
  },
  {
   "cell_type": "code",
   "execution_count": 13,
   "id": "9cb63905-deb2-4292-ae26-a36d70b14bf1",
   "metadata": {},
   "outputs": [],
   "source": [
    "# Création d'une copie de la dataframe test\n",
    "test_data_original = test_data.copy()\n",
    "\n",
    "\n",
    "# Suppression de PassengerId SEULEMENT de la copie pour le modèle\n",
    "test_data = test_data.drop('PassengerId', axis=1)"
   ]
  },
  {
   "cell_type": "code",
   "execution_count": 14,
   "id": "5b54c94e-d5e8-4231-94ca-9e3ed15dbfbe",
   "metadata": {},
   "outputs": [],
   "source": [
    "# Nettoyage de la variable test\n",
    "test_data = test_data.drop(['Name', 'Cabin', 'Age', 'Ticket', 'SibSp'], axis = 1)\n",
    "\n",
    "test_data = pd.get_dummies(test_data, columns=['Sex','Embarked'], drop_first = True)"
   ]
  },
  {
   "cell_type": "code",
   "execution_count": 16,
   "id": "25479131-9bb7-47eb-98fb-4b5413b1ea0b",
   "metadata": {},
   "outputs": [],
   "source": [
    "test_data.fillna(test_data['Fare'].mean(), inplace=True)"
   ]
  },
  {
   "cell_type": "code",
   "execution_count": 17,
   "id": "324e83eb-c2c5-4973-a04f-534831282153",
   "metadata": {
    "scrolled": true
   },
   "outputs": [],
   "source": [
    "test_data_scaled = scaler.transform(test_data)\n",
    "prediction = knn_final.predict(test_data_scaled)"
   ]
  },
  {
   "cell_type": "code",
   "execution_count": 18,
   "id": "a75f8bfe-670b-449a-9a94-fcbc9d80adac",
   "metadata": {},
   "outputs": [
    {
     "name": "stdout",
     "output_type": "stream",
     "text": [
      "   PassengerId  Survived\n",
      "0          892         0\n",
      "1          893         1\n",
      "2          894         0\n",
      "3          895         0\n",
      "4          896         1\n"
     ]
    }
   ],
   "source": [
    "# Ajouter les prédictions à la dataframe ORIGINALE qui a PassengerId\n",
    "test_data_original['Survived'] = prediction\n",
    "\n",
    "# Vous avez maintenant votre fichier avec PassengerId et les prédictions\n",
    "print(test_data_original[['PassengerId', 'Survived']].head())"
   ]
  },
  {
   "cell_type": "code",
   "execution_count": 21,
   "id": "28ad80ff-1117-450f-9219-d956164c40ae",
   "metadata": {},
   "outputs": [],
   "source": [
    "submission = test_data_original[['PassengerId', 'Survived']]"
   ]
  },
  {
   "cell_type": "code",
   "execution_count": 24,
   "id": "83f89444-9a12-4077-9caa-e835e197f1a3",
   "metadata": {},
   "outputs": [],
   "source": [
    "submission.to_csv('submission.csv', index = False)"
   ]
  }
 ],
 "metadata": {
  "kernelspec": {
   "display_name": "Python 3 (ipykernel)",
   "language": "python",
   "name": "python3"
  },
  "language_info": {
   "codemirror_mode": {
    "name": "ipython",
    "version": 3
   },
   "file_extension": ".py",
   "mimetype": "text/x-python",
   "name": "python",
   "nbconvert_exporter": "python",
   "pygments_lexer": "ipython3",
   "version": "3.11.3"
  }
 },
 "nbformat": 4,
 "nbformat_minor": 5
}
