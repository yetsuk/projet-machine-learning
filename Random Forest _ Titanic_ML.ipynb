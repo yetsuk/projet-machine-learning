{
 "cells": [
  {
   "cell_type": "markdown",
   "id": "c3eb0d77-0221-4260-92b1-8899439225b7",
   "metadata": {},
   "source": [
    "# Titanic - Machine Learning from Disaster\n",
    "## (Random Forest)"
   ]
  },
  {
   "cell_type": "code",
   "execution_count": 1,
   "id": "be8a1cc3-5233-4d22-ba96-1748cfe97b34",
   "metadata": {},
   "outputs": [],
   "source": [
    "# Import des modules\n",
    "\n",
    "# Manipulation de donnée\n",
    "import pandas as pd\n",
    "import numpy as np\n",
    "\n",
    "# Visualisation des données\n",
    "import matplotlib.pyplot as plt\n",
    "import seaborn as sns"
   ]
  },
  {
   "cell_type": "code",
   "execution_count": 2,
   "id": "33dcdc03-28e8-4adc-88bc-67ed98e2c8af",
   "metadata": {},
   "outputs": [],
   "source": [
    "# Lecture des différentes dataframe\n",
    "train_data = pd.read_csv('train.csv')\n",
    "\n",
    "test_data = pd.read_csv('test.csv')"
   ]
  },
  {
   "cell_type": "code",
   "execution_count": 3,
   "id": "6211fc57-4978-44bd-8056-f6ee87083cad",
   "metadata": {},
   "outputs": [
    {
     "data": {
      "text/html": [
       "<div>\n",
       "<style scoped>\n",
       "    .dataframe tbody tr th:only-of-type {\n",
       "        vertical-align: middle;\n",
       "    }\n",
       "\n",
       "    .dataframe tbody tr th {\n",
       "        vertical-align: top;\n",
       "    }\n",
       "\n",
       "    .dataframe thead th {\n",
       "        text-align: right;\n",
       "    }\n",
       "</style>\n",
       "<table border=\"1\" class=\"dataframe\">\n",
       "  <thead>\n",
       "    <tr style=\"text-align: right;\">\n",
       "      <th></th>\n",
       "      <th>PassengerId</th>\n",
       "      <th>Survived</th>\n",
       "      <th>Pclass</th>\n",
       "      <th>Name</th>\n",
       "      <th>Sex</th>\n",
       "      <th>Age</th>\n",
       "      <th>SibSp</th>\n",
       "      <th>Parch</th>\n",
       "      <th>Ticket</th>\n",
       "      <th>Fare</th>\n",
       "      <th>Cabin</th>\n",
       "      <th>Embarked</th>\n",
       "    </tr>\n",
       "  </thead>\n",
       "  <tbody>\n",
       "    <tr>\n",
       "      <th>0</th>\n",
       "      <td>1</td>\n",
       "      <td>0</td>\n",
       "      <td>3</td>\n",
       "      <td>Braund, Mr. Owen Harris</td>\n",
       "      <td>male</td>\n",
       "      <td>22.0</td>\n",
       "      <td>1</td>\n",
       "      <td>0</td>\n",
       "      <td>A/5 21171</td>\n",
       "      <td>7.2500</td>\n",
       "      <td>NaN</td>\n",
       "      <td>S</td>\n",
       "    </tr>\n",
       "    <tr>\n",
       "      <th>1</th>\n",
       "      <td>2</td>\n",
       "      <td>1</td>\n",
       "      <td>1</td>\n",
       "      <td>Cumings, Mrs. John Bradley (Florence Briggs Th...</td>\n",
       "      <td>female</td>\n",
       "      <td>38.0</td>\n",
       "      <td>1</td>\n",
       "      <td>0</td>\n",
       "      <td>PC 17599</td>\n",
       "      <td>71.2833</td>\n",
       "      <td>C85</td>\n",
       "      <td>C</td>\n",
       "    </tr>\n",
       "    <tr>\n",
       "      <th>2</th>\n",
       "      <td>3</td>\n",
       "      <td>1</td>\n",
       "      <td>3</td>\n",
       "      <td>Heikkinen, Miss. Laina</td>\n",
       "      <td>female</td>\n",
       "      <td>26.0</td>\n",
       "      <td>0</td>\n",
       "      <td>0</td>\n",
       "      <td>STON/O2. 3101282</td>\n",
       "      <td>7.9250</td>\n",
       "      <td>NaN</td>\n",
       "      <td>S</td>\n",
       "    </tr>\n",
       "    <tr>\n",
       "      <th>3</th>\n",
       "      <td>4</td>\n",
       "      <td>1</td>\n",
       "      <td>1</td>\n",
       "      <td>Futrelle, Mrs. Jacques Heath (Lily May Peel)</td>\n",
       "      <td>female</td>\n",
       "      <td>35.0</td>\n",
       "      <td>1</td>\n",
       "      <td>0</td>\n",
       "      <td>113803</td>\n",
       "      <td>53.1000</td>\n",
       "      <td>C123</td>\n",
       "      <td>S</td>\n",
       "    </tr>\n",
       "    <tr>\n",
       "      <th>4</th>\n",
       "      <td>5</td>\n",
       "      <td>0</td>\n",
       "      <td>3</td>\n",
       "      <td>Allen, Mr. William Henry</td>\n",
       "      <td>male</td>\n",
       "      <td>35.0</td>\n",
       "      <td>0</td>\n",
       "      <td>0</td>\n",
       "      <td>373450</td>\n",
       "      <td>8.0500</td>\n",
       "      <td>NaN</td>\n",
       "      <td>S</td>\n",
       "    </tr>\n",
       "  </tbody>\n",
       "</table>\n",
       "</div>"
      ],
      "text/plain": [
       "   PassengerId  Survived  Pclass  \\\n",
       "0            1         0       3   \n",
       "1            2         1       1   \n",
       "2            3         1       3   \n",
       "3            4         1       1   \n",
       "4            5         0       3   \n",
       "\n",
       "                                                Name     Sex   Age  SibSp  \\\n",
       "0                            Braund, Mr. Owen Harris    male  22.0      1   \n",
       "1  Cumings, Mrs. John Bradley (Florence Briggs Th...  female  38.0      1   \n",
       "2                             Heikkinen, Miss. Laina  female  26.0      0   \n",
       "3       Futrelle, Mrs. Jacques Heath (Lily May Peel)  female  35.0      1   \n",
       "4                           Allen, Mr. William Henry    male  35.0      0   \n",
       "\n",
       "   Parch            Ticket     Fare Cabin Embarked  \n",
       "0      0         A/5 21171   7.2500   NaN        S  \n",
       "1      0          PC 17599  71.2833   C85        C  \n",
       "2      0  STON/O2. 3101282   7.9250   NaN        S  \n",
       "3      0            113803  53.1000  C123        S  \n",
       "4      0            373450   8.0500   NaN        S  "
      ]
     },
     "execution_count": 3,
     "metadata": {},
     "output_type": "execute_result"
    }
   ],
   "source": [
    "train_data.head()"
   ]
  },
  {
   "cell_type": "code",
   "execution_count": 4,
   "id": "c0d77d95-58d4-4020-8f3f-5e881515075b",
   "metadata": {},
   "outputs": [
    {
     "name": "stdout",
     "output_type": "stream",
     "text": [
      "Shape de la dataframe: (891, 12)\n",
      "Type de données de la DataFrame: PassengerId      int64\n",
      "Survived         int64\n",
      "Pclass           int64\n",
      "Name            object\n",
      "Sex             object\n",
      "Age            float64\n",
      "SibSp            int64\n",
      "Parch            int64\n",
      "Ticket          object\n",
      "Fare           float64\n",
      "Cabin           object\n",
      "Embarked        object\n",
      "dtype: object\n"
     ]
    }
   ],
   "source": [
    "print('Shape de la dataframe:', train_data.shape)\n",
    "print('Type de données de la DataFrame:', train_data.dtypes)"
   ]
  },
  {
   "cell_type": "code",
   "execution_count": 5,
   "id": "09a10a5b-4af4-4dc0-9ddc-d17c743a2484",
   "metadata": {},
   "outputs": [
    {
     "data": {
      "text/plain": [
       "Embarked\n",
       "S    644\n",
       "C    168\n",
       "Q     77\n",
       "Name: count, dtype: int64"
      ]
     },
     "execution_count": 5,
     "metadata": {},
     "output_type": "execute_result"
    }
   ],
   "source": [
    "# Répartition de la variable \"Embarked\"\n",
    "embarked = train_data['Embarked'].value_counts()\n",
    "\n",
    "embarked"
   ]
  },
  {
   "cell_type": "markdown",
   "id": "153d31a0-567b-423a-b75f-313e10e81072",
   "metadata": {},
   "source": [
    "Je vais transformer les variables Embarked et sexe en variable numérique pour pouvoir la création du modèle de Random Forest.\n",
    "\n",
    "- **Pour Embarked**: C / Q / S --> 1 / 2 / 3\n",
    "\n",
    "- **Pour Sex**: female / male --> 0 / 1"
   ]
  },
  {
   "cell_type": "code",
   "execution_count": 6,
   "id": "bb7bf254-1984-4653-9d6e-8c8c3a629ae5",
   "metadata": {},
   "outputs": [],
   "source": [
    "# Recodage de la variable Embarked\n",
    "\n",
    "train_data['Embarked'] = train_data['Embarked'].replace(['C','Q','S'] , [1,2,3])"
   ]
  },
  {
   "cell_type": "code",
   "execution_count": 7,
   "id": "74593d77-8f8c-4249-a1bd-97c6acab12f3",
   "metadata": {},
   "outputs": [
    {
     "data": {
      "text/html": [
       "<div>\n",
       "<style scoped>\n",
       "    .dataframe tbody tr th:only-of-type {\n",
       "        vertical-align: middle;\n",
       "    }\n",
       "\n",
       "    .dataframe tbody tr th {\n",
       "        vertical-align: top;\n",
       "    }\n",
       "\n",
       "    .dataframe thead th {\n",
       "        text-align: right;\n",
       "    }\n",
       "</style>\n",
       "<table border=\"1\" class=\"dataframe\">\n",
       "  <thead>\n",
       "    <tr style=\"text-align: right;\">\n",
       "      <th></th>\n",
       "      <th>PassengerId</th>\n",
       "      <th>Survived</th>\n",
       "      <th>Pclass</th>\n",
       "      <th>Name</th>\n",
       "      <th>Sex</th>\n",
       "      <th>Age</th>\n",
       "      <th>SibSp</th>\n",
       "      <th>Parch</th>\n",
       "      <th>Ticket</th>\n",
       "      <th>Fare</th>\n",
       "      <th>Cabin</th>\n",
       "      <th>Embarked</th>\n",
       "    </tr>\n",
       "  </thead>\n",
       "  <tbody>\n",
       "    <tr>\n",
       "      <th>0</th>\n",
       "      <td>1</td>\n",
       "      <td>0</td>\n",
       "      <td>3</td>\n",
       "      <td>Braund, Mr. Owen Harris</td>\n",
       "      <td>male</td>\n",
       "      <td>22.0</td>\n",
       "      <td>1</td>\n",
       "      <td>0</td>\n",
       "      <td>A/5 21171</td>\n",
       "      <td>7.2500</td>\n",
       "      <td>NaN</td>\n",
       "      <td>3.0</td>\n",
       "    </tr>\n",
       "    <tr>\n",
       "      <th>1</th>\n",
       "      <td>2</td>\n",
       "      <td>1</td>\n",
       "      <td>1</td>\n",
       "      <td>Cumings, Mrs. John Bradley (Florence Briggs Th...</td>\n",
       "      <td>female</td>\n",
       "      <td>38.0</td>\n",
       "      <td>1</td>\n",
       "      <td>0</td>\n",
       "      <td>PC 17599</td>\n",
       "      <td>71.2833</td>\n",
       "      <td>C85</td>\n",
       "      <td>1.0</td>\n",
       "    </tr>\n",
       "    <tr>\n",
       "      <th>2</th>\n",
       "      <td>3</td>\n",
       "      <td>1</td>\n",
       "      <td>3</td>\n",
       "      <td>Heikkinen, Miss. Laina</td>\n",
       "      <td>female</td>\n",
       "      <td>26.0</td>\n",
       "      <td>0</td>\n",
       "      <td>0</td>\n",
       "      <td>STON/O2. 3101282</td>\n",
       "      <td>7.9250</td>\n",
       "      <td>NaN</td>\n",
       "      <td>3.0</td>\n",
       "    </tr>\n",
       "    <tr>\n",
       "      <th>3</th>\n",
       "      <td>4</td>\n",
       "      <td>1</td>\n",
       "      <td>1</td>\n",
       "      <td>Futrelle, Mrs. Jacques Heath (Lily May Peel)</td>\n",
       "      <td>female</td>\n",
       "      <td>35.0</td>\n",
       "      <td>1</td>\n",
       "      <td>0</td>\n",
       "      <td>113803</td>\n",
       "      <td>53.1000</td>\n",
       "      <td>C123</td>\n",
       "      <td>3.0</td>\n",
       "    </tr>\n",
       "    <tr>\n",
       "      <th>4</th>\n",
       "      <td>5</td>\n",
       "      <td>0</td>\n",
       "      <td>3</td>\n",
       "      <td>Allen, Mr. William Henry</td>\n",
       "      <td>male</td>\n",
       "      <td>35.0</td>\n",
       "      <td>0</td>\n",
       "      <td>0</td>\n",
       "      <td>373450</td>\n",
       "      <td>8.0500</td>\n",
       "      <td>NaN</td>\n",
       "      <td>3.0</td>\n",
       "    </tr>\n",
       "  </tbody>\n",
       "</table>\n",
       "</div>"
      ],
      "text/plain": [
       "   PassengerId  Survived  Pclass  \\\n",
       "0            1         0       3   \n",
       "1            2         1       1   \n",
       "2            3         1       3   \n",
       "3            4         1       1   \n",
       "4            5         0       3   \n",
       "\n",
       "                                                Name     Sex   Age  SibSp  \\\n",
       "0                            Braund, Mr. Owen Harris    male  22.0      1   \n",
       "1  Cumings, Mrs. John Bradley (Florence Briggs Th...  female  38.0      1   \n",
       "2                             Heikkinen, Miss. Laina  female  26.0      0   \n",
       "3       Futrelle, Mrs. Jacques Heath (Lily May Peel)  female  35.0      1   \n",
       "4                           Allen, Mr. William Henry    male  35.0      0   \n",
       "\n",
       "   Parch            Ticket     Fare Cabin  Embarked  \n",
       "0      0         A/5 21171   7.2500   NaN       3.0  \n",
       "1      0          PC 17599  71.2833   C85       1.0  \n",
       "2      0  STON/O2. 3101282   7.9250   NaN       3.0  \n",
       "3      0            113803  53.1000  C123       3.0  \n",
       "4      0            373450   8.0500   NaN       3.0  "
      ]
     },
     "execution_count": 7,
     "metadata": {},
     "output_type": "execute_result"
    }
   ],
   "source": [
    "train_data.head()"
   ]
  },
  {
   "cell_type": "code",
   "execution_count": 8,
   "id": "8aff17b2-8966-4211-8b09-571e99d05cec",
   "metadata": {},
   "outputs": [],
   "source": [
    "train_data['Sex'] = train_data['Sex'].replace(['female', 'male'], [0,1])"
   ]
  },
  {
   "cell_type": "markdown",
   "id": "c7eb6324-9205-4591-b7b9-a11f5d925b6b",
   "metadata": {},
   "source": [
    "## Analyse univarié des variables"
   ]
  },
  {
   "cell_type": "code",
   "execution_count": 9,
   "id": "b49d1d1f-9b25-4e35-8f50-efdc1f7d0227",
   "metadata": {},
   "outputs": [
    {
     "name": "stdout",
     "output_type": "stream",
     "text": [
      "Répartition de la variable Pclass: Pclass\n",
      "3    491\n",
      "1    216\n",
      "2    184\n",
      "Name: count, dtype: int64\n"
     ]
    }
   ],
   "source": [
    "# Répartition de la variables Pclass\n",
    "print('Répartition de la variable Pclass:', train_data['Pclass'].value_counts())"
   ]
  },
  {
   "cell_type": "code",
   "execution_count": 10,
   "id": "c6638094-75bf-49a3-b8ab-ed1bf25a06f3",
   "metadata": {},
   "outputs": [
    {
     "name": "stdout",
     "output_type": "stream",
     "text": [
      "Description de la variable Age count    714.000000\n",
      "mean      29.699118\n",
      "std       14.526497\n",
      "min        0.420000\n",
      "25%       20.125000\n",
      "50%       28.000000\n",
      "75%       38.000000\n",
      "max       80.000000\n",
      "Name: Age, dtype: float64\n"
     ]
    }
   ],
   "source": [
    "# Description de la variable Age\n",
    "print('Description de la variable Age', train_data['Age'].describe())"
   ]
  },
  {
   "cell_type": "code",
   "execution_count": 11,
   "id": "2f6f18ad-dff3-4ae3-8866-4dfa51eb61e0",
   "metadata": {},
   "outputs": [],
   "source": [
    "list_var_cat = ['Survived', 'Sex', 'Embarked']\n",
    "\n",
    "list_var_num = ['SibSp', 'Fare']"
   ]
  },
  {
   "cell_type": "code",
   "execution_count": 12,
   "id": "f200a276-29e5-4c7e-ae58-b0262a12c7c6",
   "metadata": {},
   "outputs": [
    {
     "name": "stdout",
     "output_type": "stream",
     "text": [
      "Répartion de la variable Survived: Survived\n",
      "0    549\n",
      "1    342\n",
      "Name: count, dtype: int64\n",
      "Répartion de la variable Sex: Sex\n",
      "1    577\n",
      "0    314\n",
      "Name: count, dtype: int64\n",
      "Répartion de la variable Embarked: Embarked\n",
      "3.0    644\n",
      "1.0    168\n",
      "2.0     77\n",
      "Name: count, dtype: int64\n"
     ]
    }
   ],
   "source": [
    "# Répartition des variables catégoriel\n",
    "\n",
    "for var in list_var_cat:\n",
    "    print(f'Répartion de la variable {var}:', train_data[var].value_counts())"
   ]
  },
  {
   "cell_type": "code",
   "execution_count": 13,
   "id": "196bc778-d30e-4d79-9f3f-cba9c29b3a73",
   "metadata": {},
   "outputs": [
    {
     "name": "stdout",
     "output_type": "stream",
     "text": [
      "Description de la variable SibSp count    891.000000\n",
      "mean       0.523008\n",
      "std        1.102743\n",
      "min        0.000000\n",
      "25%        0.000000\n",
      "50%        0.000000\n",
      "75%        1.000000\n",
      "max        8.000000\n",
      "Name: SibSp, dtype: float64\n",
      "Description de la variable Fare count    891.000000\n",
      "mean      32.204208\n",
      "std       49.693429\n",
      "min        0.000000\n",
      "25%        7.910400\n",
      "50%       14.454200\n",
      "75%       31.000000\n",
      "max      512.329200\n",
      "Name: Fare, dtype: float64\n"
     ]
    }
   ],
   "source": [
    "# Description des variables numérique continue\n",
    "\n",
    "for var in list_var_num:\n",
    "    print(f'Description de la variable {var}', train_data[var].describe())"
   ]
  },
  {
   "cell_type": "code",
   "execution_count": 14,
   "id": "2d13774d-7a86-4d9e-85c3-5e5c250ffee1",
   "metadata": {},
   "outputs": [
    {
     "name": "stdout",
     "output_type": "stream",
     "text": [
      "Tableau des valeurs manquantes: PassengerId      0\n",
      "Survived         0\n",
      "Pclass           0\n",
      "Name             0\n",
      "Sex              0\n",
      "Age            177\n",
      "SibSp            0\n",
      "Parch            0\n",
      "Ticket           0\n",
      "Fare             0\n",
      "Cabin          687\n",
      "Embarked         2\n",
      "dtype: int64\n"
     ]
    }
   ],
   "source": [
    "# Vérification de la présence de valeur null\n",
    "\n",
    "print('Tableau des valeurs manquantes:', train_data.isnull().sum())"
   ]
  },
  {
   "cell_type": "code",
   "execution_count": 15,
   "id": "9f3d59f7-69d3-4353-a574-3c357c32acfa",
   "metadata": {},
   "outputs": [],
   "source": [
    "# Imputation par la médiane de chaque classe\n",
    "train_data['Age'] = train_data.groupby('Pclass')['Age'].transform(\n",
    "    lambda x: x.fillna(x.median())\n",
    ")"
   ]
  },
  {
   "cell_type": "code",
   "execution_count": 17,
   "id": "ebc9a689-f719-4b9e-a471-a6cbdf4b63ba",
   "metadata": {},
   "outputs": [],
   "source": [
    "# Recodage des valeur null en 1 \n",
    "train_data['Embarked'] = train_data['Embarked'].fillna('1')"
   ]
  },
  {
   "cell_type": "code",
   "execution_count": 18,
   "id": "41a82b48-c5ed-42fe-a973-b96d136f5817",
   "metadata": {},
   "outputs": [
    {
     "data": {
      "text/plain": [
       "PassengerId      int64\n",
       "Survived         int64\n",
       "Pclass           int64\n",
       "Name            object\n",
       "Sex              int64\n",
       "Age            float64\n",
       "SibSp            int64\n",
       "Parch            int64\n",
       "Ticket          object\n",
       "Fare           float64\n",
       "Cabin           object\n",
       "Embarked        object\n",
       "dtype: object"
      ]
     },
     "execution_count": 18,
     "metadata": {},
     "output_type": "execute_result"
    }
   ],
   "source": [
    "train_data.dtypes"
   ]
  },
  {
   "cell_type": "code",
   "execution_count": 19,
   "id": "ca72ae43-4f09-45d4-9104-af1ab8399002",
   "metadata": {},
   "outputs": [],
   "source": [
    "# Suppression de la variable Cabin car offre peu d'information\n",
    "\n",
    "train_data = train_data.drop('Cabin', axis = 1)"
   ]
  },
  {
   "cell_type": "code",
   "execution_count": 20,
   "id": "7ad04a1b-2838-4828-a4e5-e866df6da4b3",
   "metadata": {},
   "outputs": [],
   "source": [
    "train_data = train_data.copy()"
   ]
  },
  {
   "cell_type": "markdown",
   "id": "6e28358f-577c-4d2f-a7cc-6e120c2a8795",
   "metadata": {},
   "source": [
    "Pour résumer, je viens de réaliser le nettoyage de la Dataframe afin d'exploiter au mieux la dataframe. J'ai supprimer la variables Cabin qui possédait trop de variable. Imputer la variable age pour ne pas perdre trop d'individu pour l'entraînement du modèle. Transformer certaines variables catégoriel en variable numérique pour une meilleur analyse."
   ]
  },
  {
   "cell_type": "markdown",
   "id": "e842170b-1959-4530-9486-ef7b3176805f",
   "metadata": {},
   "source": [
    "## Test de corrélation"
   ]
  },
  {
   "cell_type": "code",
   "execution_count": 21,
   "id": "c5f28428-3a44-40b2-8f47-e315dfd15853",
   "metadata": {},
   "outputs": [],
   "source": [
    "from scipy import stats\n",
    "from scipy.stats import pearsonr, mstats"
   ]
  },
  {
   "cell_type": "code",
   "execution_count": 22,
   "id": "d6e51630-36ff-4f4f-a464-3b14807560cc",
   "metadata": {},
   "outputs": [
    {
     "name": "stdout",
     "output_type": "stream",
     "text": [
      "Pclass          | r = -0.3385 | p-value = 0.000000 | Sig: *\n",
      "Sex             | r = -0.5434 | p-value = 0.000000 | Sig: *\n",
      "Age             | r = -0.0473 | p-value = 0.158735 | Sig: \n",
      "Fare            | r =  0.2573 | p-value = 0.000000 | Sig: *\n",
      "Embarked        | r = -0.1742 | p-value = 0.000000 | Sig: *\n",
      "SibSp           | r = -0.0353 | p-value = 0.292244 | Sig: \n",
      "Parch           | r =  0.0816 | p-value = 0.014799 | Sig: *\n"
     ]
    }
   ],
   "source": [
    "# Réalisation du test de corrélation (r de pearson)\n",
    "\n",
    "colonne_name = ['Pclass', 'Sex', 'Age', 'Fare', 'Embarked', 'SibSp', 'Parch']\n",
    "\n",
    "for var in colonne_name:\n",
    "    # Test de Pearson\n",
    "    corr, pval = pearsonr(train_data[var], train_data['Survived'])\n",
    "\n",
    "    results = []\n",
    "    \n",
    "    results.append({\n",
    "        'Variable': var,\n",
    "        'Corrélation': corr,\n",
    "        'P-value': pval,\n",
    "        'Significatif': 'Oui' if pval < 0.05 else 'Non'\n",
    "        })\n",
    "        \n",
    "    print(f\"{var:15} | r = {corr:7.4f} | p-value = {pval:.6f} | Sig: {'*' if pval < 0.05 else ''}\")"
   ]
  },
  {
   "cell_type": "markdown",
   "id": "771f55a3-a138-4a94-a452-26d67e8c6258",
   "metadata": {},
   "source": [
    "Le test de pearson montre que les variables Age et SibSp ne sont pas significative et qu'elle ne sont pas nécessaire dans le cadre de la construction du modèle. "
   ]
  },
  {
   "cell_type": "markdown",
   "id": "08b27ee3-5374-4107-85ef-6900057c6274",
   "metadata": {},
   "source": [
    "# Création du modèle de classification"
   ]
  },
  {
   "cell_type": "markdown",
   "id": "612cac79-d305-4e1b-94de-d546dfcdeef3",
   "metadata": {},
   "source": [
    "Je compte utilisé un random forest qui se décrit comme  un algorithme qui crée de nombreux arbres de décision, chacun entraîné sur une partie aléatoire des données. Pour faire une prédiction, tous les arbres \"votent\" ensemble : la classe prédite par la majorité devient le résultat final. Cette approche combine la simplicité des arbres de décision avec la puissance de l'ensemble, ce qui rend le modèle robuste et moins sujet au surapprentissage."
   ]
  },
  {
   "cell_type": "markdown",
   "id": "90075484-b8ab-4aa9-8da3-3237305a10bb",
   "metadata": {},
   "source": [
    "## RandomForrest"
   ]
  },
  {
   "cell_type": "code",
   "execution_count": 23,
   "id": "49d6f1c6-aa7b-4aa2-9d00-b7707c1ae3dc",
   "metadata": {},
   "outputs": [],
   "source": [
    "from sklearn.ensemble import  RandomForestClassifier\n",
    "from sklearn.model_selection import GridSearchCV, cross_val_score, train_test_split\n",
    "from sklearn.metrics import accuracy_score, precision_score, recall_score, f1_score"
   ]
  },
  {
   "cell_type": "markdown",
   "id": "37f8b8e7-76ae-4431-b6b3-6c8194c0a234",
   "metadata": {},
   "source": [
    "* y = variable à classifier\n",
    "\n",
    "* x = feature"
   ]
  },
  {
   "cell_type": "code",
   "execution_count": 24,
   "id": "de26bbe9-fd1c-42f5-bcce-f6e40387462f",
   "metadata": {},
   "outputs": [],
   "source": [
    "y = train_data['Survived']\n",
    "\n",
    "features = ['Pclass', 'Sex','Parch', 'Fare', 'Embarked']\n",
    "\n",
    "X = pd.get_dummies(train_data[features])"
   ]
  },
  {
   "cell_type": "code",
   "execution_count": 25,
   "id": "bc68189b-5e38-46ae-817d-e7fd27cdadf2",
   "metadata": {},
   "outputs": [],
   "source": [
    "# transformation de X et y en valeur train et test\n",
    "\n",
    "X_train, X_test, y_train, y_test = train_test_split(X, y, test_size=0.2, random_state=42)"
   ]
  },
  {
   "cell_type": "code",
   "execution_count": 26,
   "id": "3d09fda9-0d3b-4108-a8c3-087d45d1801f",
   "metadata": {},
   "outputs": [],
   "source": [
    "# Définir les paramètres à tester\n",
    "param_grid = {\n",
    "    'n_estimators': [50, 100, 200],\n",
    "    'max_depth': [5, 10, 20, None],\n",
    "    'min_samples_split': [2, 5, 10],\n",
    "    'min_samples_leaf': [1, 2, 4],\n",
    "    'max_features': ['sqrt', 'log2']\n",
    "}"
   ]
  },
  {
   "cell_type": "code",
   "execution_count": 27,
   "id": "b8e79726-80ed-4496-b3da-b54770c8699b",
   "metadata": {},
   "outputs": [],
   "source": [
    "# Créer le modèle de base\n",
    "rf = RandomForestClassifier(random_state=42)\n",
    "\n",
    "# GridSearchCV teste toutes les combinaisons de paramètres\n",
    "grid_search = GridSearchCV(\n",
    "    rf,\n",
    "    param_grid,\n",
    "    cv=5,  # 5-fold cross-validation\n",
    "    scoring='accuracy',\n",
    "    verbose=1\n",
    ")"
   ]
  },
  {
   "cell_type": "code",
   "execution_count": 28,
   "id": "4befd49d-0bd0-424a-8db0-0d546ea8d639",
   "metadata": {},
   "outputs": [
    {
     "name": "stdout",
     "output_type": "stream",
     "text": [
      "Fitting 5 folds for each of 216 candidates, totalling 1080 fits\n",
      "Meilleurs paramètres: {'max_depth': 10, 'max_features': 'sqrt', 'min_samples_leaf': 1, 'min_samples_split': 2, 'n_estimators': 200}\n",
      "Meilleur score (CV): 0.8133\n"
     ]
    }
   ],
   "source": [
    "# Entraîner et chercher les meilleurs paramètres\n",
    "grid_search.fit(X_train, y_train)\n",
    "\n",
    "# Afficher les meilleurs paramètres trouvés\n",
    "print(f\"Meilleurs paramètres: {grid_search.best_params_}\")\n",
    "print(f\"Meilleur score (CV): {grid_search.best_score_:.4f}\")"
   ]
  },
  {
   "cell_type": "code",
   "execution_count": 29,
   "id": "1c42dd41-c3d4-4a0e-8512-3070b1207a2e",
   "metadata": {},
   "outputs": [
    {
     "name": "stdout",
     "output_type": "stream",
     "text": [
      "\n",
      "Accuracy sur le test: 0.8045\n",
      "Precision: 0.7746\n",
      "Recall: 0.7432\n",
      "F1-score: 0.7586\n",
      "    param_n_estimators param_max_depth  mean_test_score  std_test_score\n",
      "0                   50               5         0.803359        0.038109\n",
      "1                  100               5         0.809002        0.034227\n",
      "2                  200               5         0.801970        0.036516\n",
      "3                   50               5         0.807584        0.037937\n",
      "4                  100               5         0.808992        0.035429\n",
      "..                 ...             ...              ...             ...\n",
      "211                100            None         0.806185        0.028255\n",
      "212                200            None         0.801960        0.025693\n",
      "213                 50            None         0.800561        0.028343\n",
      "214                100            None         0.803368        0.024353\n",
      "215                200            None         0.799153        0.029709\n",
      "\n",
      "[216 rows x 4 columns]\n"
     ]
    }
   ],
   "source": [
    "# Évaluer sur l'ensemble de test\n",
    "y_pred = grid_search.predict(X_test)\n",
    "print(f\"\\nAccuracy sur le test: {accuracy_score(y_test, y_pred):.4f}\")\n",
    "print(f\"Precision: {precision_score(y_test, y_pred):.4f}\")\n",
    "print(f\"Recall: {recall_score(y_test, y_pred):.4f}\")\n",
    "print(f\"F1-score: {f1_score(y_test, y_pred):.4f}\")\n",
    "\n",
    "# Voir les résultats détaillés pour chaque combinaison\n",
    "results_df = pd.DataFrame(grid_search.cv_results_)\n",
    "print(results_df[['param_n_estimators', 'param_max_depth', 'mean_test_score', 'std_test_score']])"
   ]
  },
  {
   "cell_type": "markdown",
   "id": "c6034bdd-904f-4d50-a17a-b5f46bf401bf",
   "metadata": {},
   "source": [
    "## Modèle et création de la DataFrame 'submitted'"
   ]
  },
  {
   "cell_type": "code",
   "execution_count": 29,
   "id": "6a6f1e36-bd77-48e2-a580-2ea9c5a335c8",
   "metadata": {},
   "outputs": [],
   "source": [
    "# Re-transformer les variables comme je l'ai fait au début\n",
    "test_data['Sex'] = test_data['Sex'].replace(['female', 'male'],[0,1])\n",
    "\n",
    "test_data['Embarked'] = test_data['Embarked'].replace(['C','Q','S'], [1,2,3])"
   ]
  },
  {
   "cell_type": "code",
   "execution_count": 30,
   "id": "26eede40-3c65-4d32-adad-a6613f3c8b61",
   "metadata": {},
   "outputs": [],
   "source": [
    "test_data['Age'] = test_data.groupby('Pclass')['Age'].transform(\n",
    "    lambda x: x.fillna(x.median())\n",
    ")\n",
    "\n",
    "test_data['Embarked'] = test_data['Embarked'].fillna(1)"
   ]
  },
  {
   "cell_type": "code",
   "execution_count": 31,
   "id": "82089f9e-61c9-485c-be0b-719c6a015f75",
   "metadata": {},
   "outputs": [
    {
     "data": {
      "text/html": [
       "<div>\n",
       "<style scoped>\n",
       "    .dataframe tbody tr th:only-of-type {\n",
       "        vertical-align: middle;\n",
       "    }\n",
       "\n",
       "    .dataframe tbody tr th {\n",
       "        vertical-align: top;\n",
       "    }\n",
       "\n",
       "    .dataframe thead th {\n",
       "        text-align: right;\n",
       "    }\n",
       "</style>\n",
       "<table border=\"1\" class=\"dataframe\">\n",
       "  <thead>\n",
       "    <tr style=\"text-align: right;\">\n",
       "      <th></th>\n",
       "      <th>PassengerId</th>\n",
       "      <th>Pclass</th>\n",
       "      <th>Name</th>\n",
       "      <th>Sex</th>\n",
       "      <th>Age</th>\n",
       "      <th>SibSp</th>\n",
       "      <th>Parch</th>\n",
       "      <th>Ticket</th>\n",
       "      <th>Fare</th>\n",
       "      <th>Cabin</th>\n",
       "      <th>Embarked</th>\n",
       "    </tr>\n",
       "  </thead>\n",
       "  <tbody>\n",
       "    <tr>\n",
       "      <th>0</th>\n",
       "      <td>892</td>\n",
       "      <td>3</td>\n",
       "      <td>Kelly, Mr. James</td>\n",
       "      <td>1</td>\n",
       "      <td>34.5</td>\n",
       "      <td>0</td>\n",
       "      <td>0</td>\n",
       "      <td>330911</td>\n",
       "      <td>7.8292</td>\n",
       "      <td>NaN</td>\n",
       "      <td>2</td>\n",
       "    </tr>\n",
       "    <tr>\n",
       "      <th>1</th>\n",
       "      <td>893</td>\n",
       "      <td>3</td>\n",
       "      <td>Wilkes, Mrs. James (Ellen Needs)</td>\n",
       "      <td>0</td>\n",
       "      <td>47.0</td>\n",
       "      <td>1</td>\n",
       "      <td>0</td>\n",
       "      <td>363272</td>\n",
       "      <td>7.0000</td>\n",
       "      <td>NaN</td>\n",
       "      <td>3</td>\n",
       "    </tr>\n",
       "    <tr>\n",
       "      <th>2</th>\n",
       "      <td>894</td>\n",
       "      <td>2</td>\n",
       "      <td>Myles, Mr. Thomas Francis</td>\n",
       "      <td>1</td>\n",
       "      <td>62.0</td>\n",
       "      <td>0</td>\n",
       "      <td>0</td>\n",
       "      <td>240276</td>\n",
       "      <td>9.6875</td>\n",
       "      <td>NaN</td>\n",
       "      <td>2</td>\n",
       "    </tr>\n",
       "    <tr>\n",
       "      <th>3</th>\n",
       "      <td>895</td>\n",
       "      <td>3</td>\n",
       "      <td>Wirz, Mr. Albert</td>\n",
       "      <td>1</td>\n",
       "      <td>27.0</td>\n",
       "      <td>0</td>\n",
       "      <td>0</td>\n",
       "      <td>315154</td>\n",
       "      <td>8.6625</td>\n",
       "      <td>NaN</td>\n",
       "      <td>3</td>\n",
       "    </tr>\n",
       "    <tr>\n",
       "      <th>4</th>\n",
       "      <td>896</td>\n",
       "      <td>3</td>\n",
       "      <td>Hirvonen, Mrs. Alexander (Helga E Lindqvist)</td>\n",
       "      <td>0</td>\n",
       "      <td>22.0</td>\n",
       "      <td>1</td>\n",
       "      <td>1</td>\n",
       "      <td>3101298</td>\n",
       "      <td>12.2875</td>\n",
       "      <td>NaN</td>\n",
       "      <td>3</td>\n",
       "    </tr>\n",
       "    <tr>\n",
       "      <th>...</th>\n",
       "      <td>...</td>\n",
       "      <td>...</td>\n",
       "      <td>...</td>\n",
       "      <td>...</td>\n",
       "      <td>...</td>\n",
       "      <td>...</td>\n",
       "      <td>...</td>\n",
       "      <td>...</td>\n",
       "      <td>...</td>\n",
       "      <td>...</td>\n",
       "      <td>...</td>\n",
       "    </tr>\n",
       "    <tr>\n",
       "      <th>413</th>\n",
       "      <td>1305</td>\n",
       "      <td>3</td>\n",
       "      <td>Spector, Mr. Woolf</td>\n",
       "      <td>1</td>\n",
       "      <td>24.0</td>\n",
       "      <td>0</td>\n",
       "      <td>0</td>\n",
       "      <td>A.5. 3236</td>\n",
       "      <td>8.0500</td>\n",
       "      <td>NaN</td>\n",
       "      <td>3</td>\n",
       "    </tr>\n",
       "    <tr>\n",
       "      <th>414</th>\n",
       "      <td>1306</td>\n",
       "      <td>1</td>\n",
       "      <td>Oliva y Ocana, Dona. Fermina</td>\n",
       "      <td>0</td>\n",
       "      <td>39.0</td>\n",
       "      <td>0</td>\n",
       "      <td>0</td>\n",
       "      <td>PC 17758</td>\n",
       "      <td>108.9000</td>\n",
       "      <td>C105</td>\n",
       "      <td>1</td>\n",
       "    </tr>\n",
       "    <tr>\n",
       "      <th>415</th>\n",
       "      <td>1307</td>\n",
       "      <td>3</td>\n",
       "      <td>Saether, Mr. Simon Sivertsen</td>\n",
       "      <td>1</td>\n",
       "      <td>38.5</td>\n",
       "      <td>0</td>\n",
       "      <td>0</td>\n",
       "      <td>SOTON/O.Q. 3101262</td>\n",
       "      <td>7.2500</td>\n",
       "      <td>NaN</td>\n",
       "      <td>3</td>\n",
       "    </tr>\n",
       "    <tr>\n",
       "      <th>416</th>\n",
       "      <td>1308</td>\n",
       "      <td>3</td>\n",
       "      <td>Ware, Mr. Frederick</td>\n",
       "      <td>1</td>\n",
       "      <td>24.0</td>\n",
       "      <td>0</td>\n",
       "      <td>0</td>\n",
       "      <td>359309</td>\n",
       "      <td>8.0500</td>\n",
       "      <td>NaN</td>\n",
       "      <td>3</td>\n",
       "    </tr>\n",
       "    <tr>\n",
       "      <th>417</th>\n",
       "      <td>1309</td>\n",
       "      <td>3</td>\n",
       "      <td>Peter, Master. Michael J</td>\n",
       "      <td>1</td>\n",
       "      <td>24.0</td>\n",
       "      <td>1</td>\n",
       "      <td>1</td>\n",
       "      <td>2668</td>\n",
       "      <td>22.3583</td>\n",
       "      <td>NaN</td>\n",
       "      <td>1</td>\n",
       "    </tr>\n",
       "  </tbody>\n",
       "</table>\n",
       "<p>418 rows × 11 columns</p>\n",
       "</div>"
      ],
      "text/plain": [
       "     PassengerId  Pclass                                          Name  Sex  \\\n",
       "0            892       3                              Kelly, Mr. James    1   \n",
       "1            893       3              Wilkes, Mrs. James (Ellen Needs)    0   \n",
       "2            894       2                     Myles, Mr. Thomas Francis    1   \n",
       "3            895       3                              Wirz, Mr. Albert    1   \n",
       "4            896       3  Hirvonen, Mrs. Alexander (Helga E Lindqvist)    0   \n",
       "..           ...     ...                                           ...  ...   \n",
       "413         1305       3                            Spector, Mr. Woolf    1   \n",
       "414         1306       1                  Oliva y Ocana, Dona. Fermina    0   \n",
       "415         1307       3                  Saether, Mr. Simon Sivertsen    1   \n",
       "416         1308       3                           Ware, Mr. Frederick    1   \n",
       "417         1309       3                      Peter, Master. Michael J    1   \n",
       "\n",
       "      Age  SibSp  Parch              Ticket      Fare Cabin  Embarked  \n",
       "0    34.5      0      0              330911    7.8292   NaN         2  \n",
       "1    47.0      1      0              363272    7.0000   NaN         3  \n",
       "2    62.0      0      0              240276    9.6875   NaN         2  \n",
       "3    27.0      0      0              315154    8.6625   NaN         3  \n",
       "4    22.0      1      1             3101298   12.2875   NaN         3  \n",
       "..    ...    ...    ...                 ...       ...   ...       ...  \n",
       "413  24.0      0      0           A.5. 3236    8.0500   NaN         3  \n",
       "414  39.0      0      0            PC 17758  108.9000  C105         1  \n",
       "415  38.5      0      0  SOTON/O.Q. 3101262    7.2500   NaN         3  \n",
       "416  24.0      0      0              359309    8.0500   NaN         3  \n",
       "417  24.0      1      1                2668   22.3583   NaN         1  \n",
       "\n",
       "[418 rows x 11 columns]"
      ]
     },
     "execution_count": 31,
     "metadata": {},
     "output_type": "execute_result"
    }
   ],
   "source": [
    "test_data"
   ]
  },
  {
   "cell_type": "code",
   "execution_count": 32,
   "id": "d251a1ba-64dd-4054-827f-7d79ebd6a767",
   "metadata": {},
   "outputs": [],
   "source": [
    "train_data['Embarked'] = train_data['Embarked'].astype(int)\n",
    "test_data['Embarked'] = test_data['Embarked'].astype(int)"
   ]
  },
  {
   "cell_type": "code",
   "execution_count": 36,
   "id": "c3a0d560-20d6-4551-9a86-66ea3f2ae5ab",
   "metadata": {},
   "outputs": [
    {
     "name": "stdout",
     "output_type": "stream",
     "text": [
      "Your submission was successfully saved!\n"
     ]
    }
   ],
   "source": [
    "# Test sur la nouvelle dataframe\n",
    "\n",
    "y = train_data[\"Survived\"]\n",
    "\n",
    "features = [\"Pclass\", \"Sex\", \"SibSp\", \"Fare\", 'Embarked']\n",
    "X = pd.get_dummies(train_data[features])\n",
    "X_test = pd.get_dummies(test_data[features])\n",
    "\n",
    "model = RandomForestClassifier(max_depth = 10, max_features= 'sqrt', min_samples_leaf= 1, min_samples_split= 2, n_estimators= 200, random_state=1)\n",
    "model.fit(X, y)\n",
    "predictions = model.predict(X_test)\n",
    "\n",
    "output = pd.DataFrame({'PassengerId': test_data.PassengerId, 'Survived': predictions})\n",
    "output.to_csv('submission.csv', index=False)\n",
    "print(\"Your submission was successfully saved!\")"
   ]
  }
 ],
 "metadata": {
  "kernelspec": {
   "display_name": "Python 3 (ipykernel)",
   "language": "python",
   "name": "python3"
  },
  "language_info": {
   "codemirror_mode": {
    "name": "ipython",
    "version": 3
   },
   "file_extension": ".py",
   "mimetype": "text/x-python",
   "name": "python",
   "nbconvert_exporter": "python",
   "pygments_lexer": "ipython3",
   "version": "3.11.3"
  }
 },
 "nbformat": 4,
 "nbformat_minor": 5
}
